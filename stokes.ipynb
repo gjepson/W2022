{
 "cells": [
  {
   "cell_type": "code",
   "execution_count": null,
   "id": "21cb8af6",
   "metadata": {},
   "outputs": [],
   "source": []
  },
  {
   "cell_type": "code",
   "execution_count": null,
   "id": "2fb67896",
   "metadata": {},
   "outputs": [],
   "source": [
    "# TODO\n",
    "## Get accurate parametric representation"
   ]
  },
  {
   "cell_type": "code",
   "execution_count": 9,
   "id": "8aaed1e6",
   "metadata": {},
   "outputs": [],
   "source": [
    "from sympy import sin, cos, exp, pi, symbols\n",
    "from sympy import *\n",
    "from sympy.vector import CoordSys3D, ParametricRegion, vector_integrate, curl\n",
    "from sympy.abc import x, y, z, r, theta, phi"
   ]
  },
  {
   "cell_type": "code",
   "execution_count": null,
   "id": "55a63bb9",
   "metadata": {},
   "outputs": [],
   "source": []
  },
  {
   "cell_type": "code",
   "execution_count": 37,
   "id": "323d56b1",
   "metadata": {},
   "outputs": [
    {
     "ename": "AttributeError",
     "evalue": "'CoordSys3D' object has no attribute 'x'",
     "output_type": "error",
     "traceback": [
      "\u001b[0;31m---------------------------------------------------------------------------\u001b[0m",
      "\u001b[0;31mAttributeError\u001b[0m                            Traceback (most recent call last)",
      "Input \u001b[0;32mIn [37]\u001b[0m, in \u001b[0;36m<cell line: 6>\u001b[0;34m()\u001b[0m\n\u001b[1;32m      4\u001b[0m curve \u001b[38;5;241m=\u001b[39m ParametricRegion((cos(theta), sin(theta)), (theta, \u001b[38;5;241m0\u001b[39m, pi\u001b[38;5;241m/\u001b[39m\u001b[38;5;241m2\u001b[39m))\n\u001b[1;32m      5\u001b[0m surface \u001b[38;5;241m=\u001b[39m ParametricRegion((r\u001b[38;5;241m*\u001b[39mcos(theta), r\u001b[38;5;241m*\u001b[39msin(theta)),(r,\u001b[38;5;241m0\u001b[39m,\u001b[38;5;241m1\u001b[39m),(theta, \u001b[38;5;241m0\u001b[39m, pi\u001b[38;5;241m/\u001b[39m\u001b[38;5;241m2\u001b[39m), (phi, \u001b[38;5;241m0\u001b[39m, pi)) \u001b[38;5;66;03m# Placeholder\u001b[39;00m\n\u001b[0;32m----> 6\u001b[0m Afield \u001b[38;5;241m=\u001b[39m (\u001b[38;5;241m3\u001b[39m\u001b[38;5;241m*\u001b[39m\u001b[43mC\u001b[49m\u001b[38;5;241;43m.\u001b[39;49m\u001b[43mx\u001b[49m \u001b[38;5;241m-\u001b[39m C\u001b[38;5;241m.\u001b[39my)\u001b[38;5;241m*\u001b[39mC\u001b[38;5;241m.\u001b[39mi \u001b[38;5;241m+\u001b[39m ((\u001b[38;5;241m8\u001b[39m\u001b[38;5;241m/\u001b[39m\u001b[38;5;241m7\u001b[39m)\u001b[38;5;241m*\u001b[39mC\u001b[38;5;241m.\u001b[39my\u001b[38;5;241m*\u001b[39mC\u001b[38;5;241m.\u001b[39mz\u001b[38;5;241m*\u001b[39m\u001b[38;5;241m*\u001b[39m\u001b[38;5;241m7\u001b[39m)\u001b[38;5;241m*\u001b[39mC\u001b[38;5;241m.\u001b[39mj \u001b[38;5;241m+\u001b[39m (\u001b[38;5;241m4\u001b[39m\u001b[38;5;241m*\u001b[39mC\u001b[38;5;241m.\u001b[39my\u001b[38;5;241m*\u001b[39m\u001b[38;5;241m*\u001b[39m\u001b[38;5;241m2\u001b[39m\u001b[38;5;241m*\u001b[39mC\u001b[38;5;241m.\u001b[39mz\u001b[38;5;241m*\u001b[39m\u001b[38;5;241m*\u001b[39m\u001b[38;5;241m2\u001b[39m)\u001b[38;5;241m*\u001b[39mC\u001b[38;5;241m.\u001b[39mk\n",
      "\u001b[0;31mAttributeError\u001b[0m: 'CoordSys3D' object has no attribute 'x'"
     ]
    }
   ],
   "source": [
    "C = CoordSys3D('C', transformation='spherical')\n",
    "# Get surface from Flux calculation section\n",
    "# Curve and surface likely incorrect\n",
    "curve = ParametricRegion((cos(theta), sin(theta)), (theta, 0, pi/2))\n",
    "surface = ParametricRegion((r*cos(theta), r*sin(theta)),(r,0,1),(theta, 0, pi/2), (phi, 0, pi)) # Placeholder\n",
    "Afield = (3*C.x - C.y)*C.i + ((8/7)*C.y*C.z**7)*C.j + (4*C.y**2*C.z**2)*C.k\n",
    "\n"
   ]
  },
  {
   "cell_type": "code",
   "execution_count": 35,
   "id": "224bbc52",
   "metadata": {},
   "outputs": [
    {
     "data": {
      "text/latex": [
       "$\\displaystyle 0.571428571428571 \\mathbf{{z}_{C}}^{7} - 1.5 + 0.25 \\pi$"
      ],
      "text/plain": [
       "0.571428571428571*C.z**7 - 1.5 + 0.25*pi"
      ]
     },
     "execution_count": 35,
     "metadata": {},
     "output_type": "execute_result"
    }
   ],
   "source": [
    "vector_integrate(Afield, curve)\n"
   ]
  },
  {
   "cell_type": "code",
   "execution_count": 36,
   "id": "5cfbab1d",
   "metadata": {},
   "outputs": [
    {
     "data": {
      "text/latex": [
       "$\\displaystyle 2.0 \\mathbf{{z}_{C}}^{2} \\pi \\left(\\mathbf{{z}_{C}}^{4} - 1\\right)$"
      ],
      "text/plain": [
       "2.0*C.z**2*pi*(C.z**4 - 1)"
      ]
     },
     "execution_count": 36,
     "metadata": {},
     "output_type": "execute_result"
    }
   ],
   "source": [
    "RHS = vector_integrate(curl(Afield), curve)\n",
    "simplify(RHS)"
   ]
  },
  {
   "cell_type": "code",
   "execution_count": null,
   "id": "a7f401a5",
   "metadata": {},
   "outputs": [],
   "source": []
  }
 ],
 "metadata": {
  "kernelspec": {
   "display_name": "Python 3 (ipykernel)",
   "language": "python",
   "name": "python3"
  },
  "language_info": {
   "codemirror_mode": {
    "name": "ipython",
    "version": 3
   },
   "file_extension": ".py",
   "mimetype": "text/x-python",
   "name": "python",
   "nbconvert_exporter": "python",
   "pygments_lexer": "ipython3",
   "version": "3.9.12"
  }
 },
 "nbformat": 4,
 "nbformat_minor": 5
}
