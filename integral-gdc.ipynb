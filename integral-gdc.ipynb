{
 "cells": [
  {
   "cell_type": "markdown",
   "id": "a429722a",
   "metadata": {},
   "source": [
    "For a cube with edges of length $l$, show that $\\nabla \\phi = lim_{l\\to0}\\frac{\\int_S \\phi dS}{l^3}$, $\\nabla * A = $, and $\\nabla \\times A = $"
   ]
  },
  {
   "cell_type": "code",
   "execution_count": 17,
   "id": "e3d3c154",
   "metadata": {},
   "outputs": [],
   "source": [
    "# TODO\n",
    "## Look up limits in sympy\n",
    "from sympy import symbols\n",
    "from sympy import *\n",
    "from sympy.vector import CoordSys3D, ImplicitRegion, vector_integrate, gradient, divergence, curl\n",
    "from sympy.abc import x, y, z, phi"
   ]
  },
  {
   "cell_type": "code",
   "execution_count": 25,
   "id": "f5f8c5c0",
   "metadata": {},
   "outputs": [],
   "source": [
    "C = CoordSys3D('C')\n",
    "# Define phi, A arbitrarily\n",
    "'''\n",
    "ax\n",
    "ay\n",
    "az\n",
    "'''\n",
    "# Look at how to take limits in Sympy\n",
    "f = Function('f')(C.x+C.y)\n",
    "g = Function('g')(C.y)\n",
    "h = Function('h')(C.z)\n",
    "\n",
    "phi = f+g+h\n",
    "A = f*C.i+g*C.k+h*C.j"
   ]
  },
  {
   "cell_type": "code",
   "execution_count": 26,
   "id": "057a18f8",
   "metadata": {},
   "outputs": [
    {
     "data": {
      "text/latex": [
       "$\\displaystyle (\\frac{d}{d \\mathbf{{x}_{C}}} f{\\left(\\mathbf{{x}_{C}} \\right)})\\mathbf{\\hat{i}_{C}} + (\\frac{d}{d \\mathbf{{y}_{C}}} g{\\left(\\mathbf{{y}_{C}} \\right)})\\mathbf{\\hat{j}_{C}} + (\\frac{d}{d \\mathbf{{z}_{C}}} h{\\left(\\mathbf{{z}_{C}} \\right)})\\mathbf{\\hat{k}_{C}}$"
      ],
      "text/plain": [
       "(Derivative(f(C.x), C.x))*C.i + (Derivative(g(C.y), C.y))*C.j + (Derivative(h(C.z), C.z))*C.k"
      ]
     },
     "execution_count": 26,
     "metadata": {},
     "output_type": "execute_result"
    }
   ],
   "source": [
    "gradient(phi)"
   ]
  },
  {
   "cell_type": "code",
   "execution_count": 27,
   "id": "07614e9e",
   "metadata": {},
   "outputs": [
    {
     "data": {
      "text/latex": [
       "$\\displaystyle \\frac{d}{d \\mathbf{{x}_{C}}} f{\\left(\\mathbf{{x}_{C}} \\right)}$"
      ],
      "text/plain": [
       "Derivative(f(C.x), C.x)"
      ]
     },
     "execution_count": 27,
     "metadata": {},
     "output_type": "execute_result"
    }
   ],
   "source": [
    "divergence(A)"
   ]
  },
  {
   "cell_type": "code",
   "execution_count": 28,
   "id": "632f360c",
   "metadata": {},
   "outputs": [
    {
     "data": {
      "text/latex": [
       "$\\displaystyle (\\frac{d}{d \\mathbf{{y}_{C}}} g{\\left(\\mathbf{{y}_{C}} \\right)} - \\frac{d}{d \\mathbf{{z}_{C}}} h{\\left(\\mathbf{{z}_{C}} \\right)})\\mathbf{\\hat{i}_{C}}$"
      ],
      "text/plain": [
       "(Derivative(g(C.y), C.y) - Derivative(h(C.z), C.z))*C.i"
      ]
     },
     "execution_count": 28,
     "metadata": {},
     "output_type": "execute_result"
    }
   ],
   "source": [
    "curl(A)"
   ]
  },
  {
   "cell_type": "code",
   "execution_count": 10,
   "id": "70a7c98f",
   "metadata": {},
   "outputs": [],
   "source": [
    "# Do integrals"
   ]
  },
  {
   "cell_type": "code",
   "execution_count": null,
   "id": "b51e9087",
   "metadata": {},
   "outputs": [],
   "source": [
    "volume = "
   ]
  }
 ],
 "metadata": {
  "kernelspec": {
   "display_name": "Python 3 (ipykernel)",
   "language": "python",
   "name": "python3"
  },
  "language_info": {
   "codemirror_mode": {
    "name": "ipython",
    "version": 3
   },
   "file_extension": ".py",
   "mimetype": "text/x-python",
   "name": "python",
   "nbconvert_exporter": "python",
   "pygments_lexer": "ipython3",
   "version": "3.9.12"
  }
 },
 "nbformat": 4,
 "nbformat_minor": 5
}
